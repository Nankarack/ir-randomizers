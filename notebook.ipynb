{
 "cells": [
  {
   "attachments": {},
   "cell_type": "markdown",
   "metadata": {},
   "source": [
    "# Milestone 1 (Group: Randomizers)"
   ]
  },
  {
   "cell_type": "code",
   "execution_count": null,
   "metadata": {},
   "outputs": [],
   "source": [
    "import json\n",
    "\n",
    "with open('./ir-anthology-07-11-2021-ss23.jsonl', 'r') as json_file:\n",
    "    json_list = list(json_file)\n",
    "\n",
    "lis = []\n",
    "for json_str in json_list:\n",
    "    result = json.loads(json_str)\n",
    "    id = result[\"id\"]\n",
    "    lis.append({\"doc_id\" : id, \"text\" : f\"{result}\"})\n",
    "    #  das text-feld is momentan der gesamte eintrag an sich, das sollten wir noch ändern!\n",
    "\n",
    "with open(\"ir-anthology-processed.jsonl\", 'w') as f:\n",
    "    for item in lis:\n",
    "        f.write(json.dumps(item) + \"\\n\")"
   ]
  }
 ],
 "metadata": {
  "language_info": {
   "name": "python"
  },
  "orig_nbformat": 4
 },
 "nbformat": 4,
 "nbformat_minor": 2
}
