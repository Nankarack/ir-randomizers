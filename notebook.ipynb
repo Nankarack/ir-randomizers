{
 "cells": [
  {
   "attachments": {},
   "cell_type": "markdown",
   "metadata": {},
   "source": [
    "# Milestone 1 (Group: Randomizers)"
   ]
  },
  {
   "cell_type": "code",
   "execution_count": 1,
   "metadata": {},
   "outputs": [],
   "source": [
    "import json\n",
    "\n",
    "with open('./ir-anthology-07-11-2021-ss23.jsonl', 'r') as json_file:\n",
    "    json_list = list(json_file)\n",
    "\n",
    "lis = []\n",
    "for json_str in json_list:\n",
    "    result = json.loads(json_str)\n",
    "    id = result[\"id\"]\n",
    "    lis.append({\"doc_id\" : id, \"text\" : f\"{result}\"})\n",
    "    #  das text-feld is momentan der gesamte eintrag an sich, das sollten wir noch ändern!\n",
    "\n",
    "with open(\"ir-anthology-processed.jsonl\", 'w') as f:\n",
    "    for item in lis:\n",
    "        f.write(json.dumps(item) + \"\\n\")"
   ]
  },
  {
   "attachments": {},
   "cell_type": "markdown",
   "metadata": {},
   "source": [
    "# JSONL processing\n",
    "This first cell reads the given .jsonl file and processes it into a new one of the desired form."
   ]
  }
 ],
 "metadata": {
  "kernelspec": {
   "display_name": "Python 3",
   "language": "python",
   "name": "python3"
  },
  "language_info": {
   "codemirror_mode": {
    "name": "ipython",
    "version": 3
   },
   "file_extension": ".py",
   "mimetype": "text/x-python",
   "name": "python",
   "nbconvert_exporter": "python",
   "pygments_lexer": "ipython3",
   "version": "3.10.6"
  },
  "orig_nbformat": 4
 },
 "nbformat": 4,
 "nbformat_minor": 2
}
